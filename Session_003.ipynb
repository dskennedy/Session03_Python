{
 "cells": [
  {
   "cell_type": "code",
   "execution_count": 1,
   "metadata": {},
   "outputs": [
    {
     "name": "stdout",
     "output_type": "stream",
     "text": [
      "53\n"
     ]
    }
   ],
   "source": [
    "\"\"\"\n",
    "Reduce function\n",
    "\"\"\"\n",
    "def addition(num1, num2):\n",
    "    return num1+num2\n",
    "\n",
    "def myReduce(func, data_list):\n",
    "    final_data=\"\"\n",
    "    if len(data_list)>=2:\n",
    "        final_data=data_list[0]\n",
    "        for i in range (len(data_list)-1):\n",
    "            final_data=func(final_data,data_list[i+1])\n",
    "    else:\n",
    "        if len(data_list)==1:\n",
    "            final_data=data_list[0]\n",
    "    return final_data\n",
    "\n",
    "result=myReduce(addition,[1,2,3,4,7,2,8,4,7,6,9])\n",
    "print(result)"
   ]
  },
  {
   "cell_type": "code",
   "execution_count": 4,
   "metadata": {},
   "outputs": [
    {
     "name": "stdout",
     "output_type": "stream",
     "text": [
      "[12, 14, 17, 8, 10, 16]\n"
     ]
    }
   ],
   "source": [
    "\"\"\"\n",
    "Fileter function\n",
    "\"\"\"\n",
    "\n",
    "def numer_filter(num1, num2):\n",
    "    if num1 >num2:\n",
    "        return True\n",
    "    \n",
    "\n",
    "def myFilter(func,filter_val, data_list):\n",
    "    final_data=[]\n",
    "    for i in data_list:\n",
    "        if func(filter_val,i)==True:\n",
    "            final_data.append(i)\n",
    "    return final_data\n",
    "\n",
    "result=myFilter(numer_filter,18,[18,12,30,14,17,20,8,41,10,16,19])\n",
    "print(result)\n"
   ]
  },
  {
   "cell_type": "code",
   "execution_count": 3,
   "metadata": {},
   "outputs": [
    {
     "name": "stdout",
     "output_type": "stream",
     "text": [
      "['A', 'C', 'A', 'D', 'G', 'I', 'L', 'D']\n",
      "['x', 'xx', 'xxx', 'xxxx', 'y', 'yy', 'yyy', 'yyyy', 'z', 'zz', 'zzz', 'zzzz']\n",
      "['x', 'y', 'z', 'xx', 'yy', 'zz', 'xxx', 'yyy', 'zzz', 'xxxx', 'yyyy', 'zzzz']\n",
      "[[2], [3], [4], [3], [4], [5], [4], [5], [6]]\n",
      "[[2, 3, 4, 5], [3, 4, 5, 6], [4, 5, 6, 7], [5, 6, 7, 8]]\n",
      "[(1, 1), (2, 1), (3, 1), (1, 2), (2, 2), (3, 2), (1, 3), (2, 3), (3, 3)]\n"
     ]
    }
   ],
   "source": [
    "\"\"\"\n",
    "List comprehensions\n",
    "\"\"\"\n",
    "word=[w[0] for w in \"ACADGILD\"]\n",
    "print(word)\n",
    "\n",
    "char01=[charac*num for charac in \"xyz\" for num in range(1,5)]\n",
    "print(char01)\n",
    "\n",
    "char02=[charac*num for num in range(1,5) for charac in \"xyz\" ]\n",
    "print(char02)\n",
    "\n",
    "num01=[[a+b] for a in range(2,5) for b in range(0,3) ]\n",
    "print(num01)\n",
    "\n",
    "num02=[[a+b for a in range(2,6)] for b in range(0,4) ]\n",
    "print(num02)\n",
    "\n",
    "num3=[(b,a) for a in range (1,4) for b in range(1,4)]\n",
    "print(num3)\n"
   ]
  },
  {
   "cell_type": "code",
   "execution_count": 2,
   "metadata": {},
   "outputs": [
    {
     "name": "stdout",
     "output_type": "stream",
     "text": [
      "work hard\n"
     ]
    }
   ],
   "source": [
    "\"\"\"\n",
    "Find longest Word function\n",
    "\"\"\"\n",
    "def getWord(word1, word2):\n",
    "    if len(word1) > len(word2):\n",
    "        return word1\n",
    "    else:\n",
    "        return word2\n",
    " \n",
    "def longestWord(func, data_list):\n",
    "    final_data=\"\"\n",
    "    if len(data_list)>=2:\n",
    "        final_data=data_list[0]\n",
    "        for i in range (len(data_list)-1):\n",
    "            final_data=func(final_data,data_list[i+1])\n",
    "    else:\n",
    "        if len(data_list)==1:\n",
    "            final_data=data_list[0]\n",
    "    return final_data\n",
    "\n",
    "result=longestWord(getWord,[\"set\",\"ready\",\"work hard\",\"wait\",\"run\"])\n",
    "print(result)"
   ]
  }
 ],
 "metadata": {
  "kernelspec": {
   "display_name": "Python 3",
   "language": "python",
   "name": "python3"
  },
  "language_info": {
   "codemirror_mode": {
    "name": "ipython",
    "version": 3
   },
   "file_extension": ".py",
   "mimetype": "text/x-python",
   "name": "python",
   "nbconvert_exporter": "python",
   "pygments_lexer": "ipython3",
   "version": "3.7.0"
  }
 },
 "nbformat": 4,
 "nbformat_minor": 2
}
